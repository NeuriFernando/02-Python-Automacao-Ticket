{
 "cells": [
  {
   "cell_type": "code",
   "execution_count": 1,
   "id": "a96d26e7",
   "metadata": {},
   "outputs": [
    {
     "data": {
      "text/html": [
       "<div>\n",
       "<style scoped>\n",
       "    .dataframe tbody tr th:only-of-type {\n",
       "        vertical-align: middle;\n",
       "    }\n",
       "\n",
       "    .dataframe tbody tr th {\n",
       "        vertical-align: top;\n",
       "    }\n",
       "\n",
       "    .dataframe thead th {\n",
       "        text-align: right;\n",
       "    }\n",
       "</style>\n",
       "<table border=\"1\" class=\"dataframe\">\n",
       "  <thead>\n",
       "    <tr style=\"text-align: right;\">\n",
       "      <th></th>\n",
       "      <th>Requisitante</th>\n",
       "      <th>Grupo</th>\n",
       "      <th>Prioridade</th>\n",
       "      <th>Data</th>\n",
       "      <th>Tecnico</th>\n",
       "      <th>Hora</th>\n",
       "    </tr>\n",
       "  </thead>\n",
       "  <tbody>\n",
       "    <tr>\n",
       "      <th>0</th>\n",
       "      <td>ANGELICA</td>\n",
       "      <td>São Paulo</td>\n",
       "      <td>Baixa</td>\n",
       "      <td>2020-01-01</td>\n",
       "      <td>Luis</td>\n",
       "      <td>15:00:00</td>\n",
       "    </tr>\n",
       "    <tr>\n",
       "      <th>1</th>\n",
       "      <td>TARCISIO</td>\n",
       "      <td>São Paulo</td>\n",
       "      <td>Baixa</td>\n",
       "      <td>2020-01-01</td>\n",
       "      <td>Felipe</td>\n",
       "      <td>09:00:00</td>\n",
       "    </tr>\n",
       "    <tr>\n",
       "      <th>2</th>\n",
       "      <td>ALCEMAR</td>\n",
       "      <td>São Paulo</td>\n",
       "      <td>Baixa</td>\n",
       "      <td>2020-01-01</td>\n",
       "      <td>Alberto</td>\n",
       "      <td>10:00:00</td>\n",
       "    </tr>\n",
       "  </tbody>\n",
       "</table>\n",
       "</div>"
      ],
      "text/plain": [
       "  Requisitante      Grupo Prioridade       Data  Tecnico      Hora\n",
       "0     ANGELICA  São Paulo      Baixa 2020-01-01     Luis  15:00:00\n",
       "1     TARCISIO  São Paulo      Baixa 2020-01-01   Felipe  09:00:00\n",
       "2      ALCEMAR  São Paulo      Baixa 2020-01-01  Alberto  10:00:00"
      ]
     },
     "metadata": {},
     "output_type": "display_data"
    }
   ],
   "source": [
    "import pandas as pd\n",
    "\n",
    "tabela_chamados = pd.read_excel(\"AbrirChamado.xlsx\")\n",
    "display(tabela_chamados)"
   ]
  },
  {
   "cell_type": "code",
   "execution_count": 3,
   "id": "109d743e",
   "metadata": {},
   "outputs": [
    {
     "name": "stdout",
     "output_type": "stream",
     "text": [
      "[['ANGELICA', 'São Paulo', 'Baixa', Timestamp('2020-01-01 00:00:00'), 'Luis', datetime.time(15, 0)], ['TARCISIO', 'São Paulo', 'Baixa', Timestamp('2020-01-01 00:00:00'), 'Felipe', datetime.time(9, 0)], ['ALCEMAR', 'São Paulo', 'Baixa', Timestamp('2020-01-01 00:00:00'), 'Alberto', datetime.time(10, 0)]]\n"
     ]
    }
   ],
   "source": [
    "dados = tabela_chamados[['Requisitante','Grupo','Prioridade','Data','Tecnico','Hora']].values.tolist()\n",
    "print(dados)"
   ]
  },
  {
   "cell_type": "code",
   "execution_count": 23,
   "id": "65bf4174",
   "metadata": {},
   "outputs": [],
   "source": [
    "from selenium import webdriver\n",
    "from selenium.webdriver.common.keys import Keys\n",
    "from selenium.webdriver.common.action_chains import ActionChains\n",
    "import time\n",
    "import pyautogui\n",
    "import time\n",
    "import pyperclip\n",
    "\n",
    "# Passo 1: Abrir navegador\n",
    "navegador = webdriver.Chrome()\n",
    "navegador.maximize_window()\n",
    "navegador.implicitly_wait(30)\n",
    "navegador.set_page_load_timeout(220)\n",
    "navegador.get(\"link gerenciador de ticket\")\n",
    "navegador.find_element('xpath', '//*[@id=\"i0116\"]').send_keys(\"e-mail\")\n",
    "navegador.find_element('xpath', '//*[@id=\"i0116\"]').send_keys(Keys.ENTER)\n",
    "navegador.find_element('xpath', '//*[@id=\"i0118\"]').send_keys(\"Senha\")\n",
    "navegador.find_element('xpath', '/html/body/div/form[1]/div/div/div[2]/div[1]/div/div/div/div/div/div[3]/div/div[2]/div/div[4]/div[2]/div/div/div/div/input').send_keys(Keys.ENTER)\n",
    "navegador.find_element('xpath', '/html/body/div/form[1]/div/div/div[2]/div[1]/div/div/div/div/div/div[2]/div[2]/div/div[2]/div/div[2]/div/div[3]/div/div/div[2]/div').click()\n",
    "navegador.find_element('xpath', '/html/body/div/form/div/div/div[2]/div[1]/div/div/div/div/div/div[3]/div/div[2]/div/div[3]/div[2]/div/div/div[2]/input').click()\n",
    "time.sleep(5)\n",
    "\n",
    "for dado in dados:\n",
    "    requisitado = dado[0]\n",
    "    grupo = dado[1]\n",
    "    prioridade = dado[2]\n",
    "    data = dado[3]\n",
    "    data=data.strftime(\"%d/%m/%y\")\n",
    "    tecnico = dado[4]\n",
    "    hora = dado[5]\n",
    "    mensagem = f'''\n",
    "    Agendamento para atendimento presencial. Bitlocker e atualização do sistema operacional (se possível).\n",
    "\n",
    "    Data: {data}\n",
    "    Horario: {hora}\n",
    "    Técnico: {tecnico}   \n",
    "    \n",
    "    '''   \n",
    "    \n",
    "    navegador.find_element('xpath', '/html/body/div/section/main/div[1]/div/sp-page-row/div/div/span[1]/div/div/div[1]/div[1]/div/div[3]/form/div/sp-variable-layout/div[1]/div/div/div/div/span/div/a/span[2]/b').click()\n",
    "    time.sleep(3)\n",
    "    navegador.find_element('xpath', '/html/body/div[3]/div/input').send_keys(requisitado)\n",
    "    navegador.find_element('xpath', '/html/body/div[3]/div/input').send_keys(Keys.ENTER)\n",
    "    navegador.find_element('xpath', '/html/body/div[1]/section/main/div[1]/div/sp-page-row/div/div/span[1]/div/div/div[1]/div[1]/div/div[3]/form/div/sp-variable-layout/div[2]/div/div/div[1]/div/span/span/div/div/a/span[2]/b').click()\n",
    "    time.sleep(3)\n",
    "    navegador.find_element('xpath', '/html/body/div[4]/div/input').send_keys(grupo)\n",
    "    time.sleep(2)\n",
    "    navegador.find_element('xpath', '/html/body/div[4]/div/input').send_keys(Keys.ENTER)\n",
    "    time.sleep(2)\n",
    "    navegador.find_element('xpath', '/html/body/div[1]/section/main/div[1]/div/sp-page-row/div/div/span[1]/div/div/div[1]/div[1]/div/div[3]/form/div/sp-variable-layout/div[2]/div/div/div[2]/div/span/div/a/span[2]/b').click()\n",
    "    time.sleep(3)\n",
    "    navegador.find_element('xpath', '/html/body/div[5]/div/input').send_keys(prioridade)\n",
    "    time.sleep(2)\n",
    "    navegador.find_element('xpath', '/html/body/div[5]/div/input').send_keys(Keys.ENTER)\n",
    "    navegador.find_element('xpath', '/html/body/div[1]/section/main/div[1]/div/sp-page-row/div/div/span[1]/div/div/div[1]/div[1]/div/div[3]/form/div/sp-variable-layout/div[2]/div/div/div[3]/div/span/textarea').click()\n",
    "    navegador.find_element('xpath', '/html/body/div[1]/section/main/div[1]/div/sp-page-row/div/div/span[1]/div/div/div[1]/div[1]/div/div[3]/form/div/sp-variable-layout/div[2]/div/div/div[3]/div/span/textarea').send_keys(mensagem)   \n",
    "    navegador.find_element('xpath', '/html/body/div[1]/section/main/div[1]/div/sp-page-row/div/div/span[1]/div/div/div[1]/div[2]/div/div[1]/div[3]/button').click()\n",
    "    navegador.find_element('xpath', '//*[@id=\"xcc091e21dbc34050865f1a2f2a9619f3\"]/div/ul/li[1]/span/a').click()\n",
    "    navegador.find_element('xpath', '//*[@id=\"x2b49ed74dbb60090865f1a2f2a9619cc\"]/div/div[3]/div[3]/a/div/h2').click()\n",
    "    "
   ]
  },
  {
   "cell_type": "code",
   "execution_count": null,
   "id": "f7e51f9d",
   "metadata": {},
   "outputs": [],
   "source": []
  }
 ],
 "metadata": {
  "kernelspec": {
   "display_name": "Python 3 (ipykernel)",
   "language": "python",
   "name": "python3"
  },
  "language_info": {
   "codemirror_mode": {
    "name": "ipython",
    "version": 3
   },
   "file_extension": ".py",
   "mimetype": "text/x-python",
   "name": "python",
   "nbconvert_exporter": "python",
   "pygments_lexer": "ipython3",
   "version": "3.9.12"
  }
 },
 "nbformat": 4,
 "nbformat_minor": 5
}
